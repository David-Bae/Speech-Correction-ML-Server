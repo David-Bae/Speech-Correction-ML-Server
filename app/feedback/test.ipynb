{
 "cells": [
  {
   "cell_type": "code",
   "execution_count": 11,
   "metadata": {},
   "outputs": [],
   "source": [
    "import pandas as pd\n",
    "\n",
    "df = pd.read_csv('/workspace/app/feedback/table/ipa2ko.csv')\n",
    "\n",
    "za = dict(zip(df['IPA'][:32], df['Korean'][:32]))\n",
    "mo = dict(zip(df['IPA'][32:], df['Korean'][32:]))\n",
    "mo_hangul = list(df['Korean'][32:])"
   ]
  },
  {
   "cell_type": "code",
   "execution_count": 12,
   "metadata": {},
   "outputs": [
    {
     "name": "stdout",
     "output_type": "stream",
     "text": [
      "{'ㅣ': '\"입을 옆으로 길게 벌리세요. 혀는 입천장 쪽으로 올리세요.\"', 'ㅔ': '\"입을 새끼손가락 하나만큼 벌리세요. 혀는 [이]보다 낮게 내리세요.\"', 'ㅐ': '\"입을 새끼손가락 두 개만큼 벌리세요. 혀는 아랫니 뒤에 두세요.\"', 'ㅏ': '\"입을 새끼손가락 세 개만큼 벌리세요. 혀는 최대한 내리세요.\"', 'ㅓ': '\"입을 새끼손가락 두 개만큼 벌리세요. 입술과 혀는 힘을 주지 말고 편안하게 두세요.\"', 'ㅗ': '\"입을 새끼손가락 하나만큼 벌리세요. 입술은 동그랗게 만드세요. 혀끝은 밑으로 내리고, 혀의 뒤쪽을 올리세요.\"', 'ㅜ': '\"입을 조금만 벌리세요. 입술을 동그랗게 만드세요. 입술을 조금 앞으로 내미세요. 혀끝은 밑으로 내리고 혀의 뒤쪽을 최대한 올리세요.\"', 'ㅡ': '\"입을 조금만 벌리세요. 입술과 혀는 힘을 주지 말고 편안하게 두세요.\"', 'ㅑ': '\"[이아]를 끊지 않고 연이어서 빨리 발음합니다. 이때 [이]는 짧고 약하게 [아]에 붙입니다.\"', 'ㅕ': '\"[이어]를 끊지 않고 연이어서 빨리 발음합니다. 이때 [이]는 짧고 약하게 [어]에 붙입니다.\"', 'ㅛ': '\"[이오]를 끊지 않고 연이어서 빨리 발음합니다. 이때 [이]는 짧고 약하게 [오]에 붙입니다.\"', 'ㅠ': '\"[이우]를 끊지 않고 연이어서 빨리 발음합니다. 이때 [이]는 짧고 약하게 [우]에 붙입니다.\"', 'ㅒ': '\"[이애]를 끊지 않고 연이어서 빨리 발음합니다. 이때 [이]는 짧고 약하게 [애]에 붙입니다.\"', 'ㅖ': '\"[이에]를 끊지 않고 연이어서 빨리 발음합니다. 이때 [이]는 짧고 약하게 [에]에 붙입니다.\"', 'ㅘ': '\"[우아]를 끊지 않고 이어서 발음합니다. 이때 [우]는 짧고 약하게 [아]에 붙입니다.\"', 'ㅝ': '\"[우어]를 끊지 않고 이어서 발음합니다. 이때 [우]는 짧고 약하게 [어]에 붙입니다.\"', 'ㅙ': '\"[우에]를 끊지 않고 이어서 발음합니다. 이때 [우]는 짧고 약하게 [에]에 붙입니다.\"', 'ㅞ': '\"[우에]를 끊지 않고 이어서 발음합니다. 이때 [우]는 짧고 약하게 [에]에 붙입니다.\"', 'ㅚ': '\"[우에]를 끊지 않고 이어서 발음합니다. 이때 [우]는 짧고 약하게 [에]에 붙입니다.\"', 'ㅟ': '\"[우이]를 끊지 않고 이어서 발음합니다. 이때 [우]는 아주 짧게 발음하여 [이]에 붙입니다.\"', 'ㅢ': '\"입술의 모양은 [으]로 유지하고, 혀의 위치는 [으]에서 [이]로 빨리 옮깁니다.\"'}\n"
     ]
    }
   ],
   "source": [
    "df = pd.read_csv('/workspace/app/feedback/table/mo_pronunciation_instructions.csv')\n",
    "\n",
    "mo_instruction = dict(zip(df['Mo'], df['Instruction']))\n",
    "print(mo_instruction)"
   ]
  },
  {
   "cell_type": "code",
   "execution_count": 13,
   "metadata": {},
   "outputs": [],
   "source": [
    "import os, sys\n",
    "os.getcwd()\n",
    "sys.path.append('/workspace')"
   ]
  },
  {
   "cell_type": "code",
   "execution_count": 14,
   "metadata": {},
   "outputs": [],
   "source": [
    "from util import compare_ipa_with_word_index\n",
    "from app.hangul2ipa.worker import hangul2ipa"
   ]
  },
  {
   "cell_type": "code",
   "execution_count": 15,
   "metadata": {},
   "outputs": [
    {
     "name": "stdout",
     "output_type": "stream",
     "text": [
      "['나는', '행복하게', '끝나는', '영화가', '좋다']\n",
      "['나는', '행복하게', '끝나는', '용하가', '조따.']\n",
      "nɑnɯn hɛŋbokʰɑɡɛ k*ɯnnɑnɯn jʌŋwaɡɑ tɕotʰɑ\n",
      "nɑnɯn hɛŋbokʰɑɡɛ k*ɯnnɑnɯn joŋɑɡɑ tɕot*ɑ\n"
     ]
    }
   ],
   "source": [
    "standard = \"나는 행복하게 끝나는 영화가 좋다\"\n",
    "user = \"나는 행복하게 끝나는 용하가 조따.\"\n",
    "\n",
    "standard_hangul_words = standard.split(\" \")\n",
    "user_hangul_words = user.split(\" \")\n",
    "\n",
    "print(standard_hangul_words)\n",
    "print(user_hangul_words)\n",
    "\n",
    "\n",
    "standard_ipa = hangul2ipa(standard)\n",
    "user_ipa = hangul2ipa(user)\n",
    "print(standard_ipa)\n",
    "print(user_ipa)"
   ]
  },
  {
   "cell_type": "code",
   "execution_count": 16,
   "metadata": {},
   "outputs": [
    {
     "name": "stdout",
     "output_type": "stream",
     "text": [
      "[(3, 'jʌ', 'jo'), (3, 'wa', 'ɑ'), (4, 'tʰ', 't*')]\n"
     ]
    }
   ],
   "source": [
    "errors = compare_ipa_with_word_index(standard_ipa, user_ipa)\n",
    "print(errors)"
   ]
  },
  {
   "cell_type": "code",
   "execution_count": 17,
   "metadata": {},
   "outputs": [
    {
     "name": "stdout",
     "output_type": "stream",
     "text": [
      "'영화가'를 발음할 때, 'ㅛ'를 'ㅕ'로 발음하세요.\n",
      "\"[이어]를 끊지 않고 연이어서 빨리 발음합니다. 이때 [이]는 짧고 약하게 [어]에 붙입니다.\"\n",
      "\"[이오]를 끊지 않고 연이어서 빨리 발음합니다. 이때 [이]는 짧고 약하게 [오]에 붙입니다.\"\n"
     ]
    }
   ],
   "source": [
    "from jamo import h2j, j2hcj\n",
    "\n",
    "for error in errors:\n",
    "    word_id, standard_ipa, user_ipa = error\n",
    "    \n",
    "    if standard_ipa in mo:\n",
    "        error_word = standard_hangul_words[word_id]\n",
    "        \n",
    "        error_word_last_jamo = j2hcj(h2j(standard_hangul_words[word_id]))[-1]\n",
    "        if error_word_last_jamo in mo_hangul:\n",
    "            josa = '를'\n",
    "        else:\n",
    "            josa = '을'\n",
    "            \n",
    "        print(f\"'{error_word}'{josa} 발음할 때, '{mo[user_ipa]}'를 '{mo[standard_ipa]}'로 발음하세요.\")\n",
    "        print(mo_instruction[mo[standard_ipa]])\n",
    "        print(mo_instruction[mo[user_ipa]])\n",
    "        \n",
    "        break\n"
   ]
  },
  {
   "cell_type": "code",
   "execution_count": 18,
   "metadata": {},
   "outputs": [],
   "source": [
    "import pandas as pd\n",
    "\n",
    "# 데이터 준비\n",
    "data = {\n",
    "    'Mo': ['이', '에', '애', '아', '어', '오', '우', '으', '야', '여', '요', '유', '얘', '예', '와', '워', '왜', '웨', '외', '위', '의'],\n",
    "    'Instruction': [\n",
    "        '입을 옆으로 길게 벌리세요. 혀는 입천장 쪽으로 올리세요.',\n",
    "        '입을 새끼손가락 하나만큼 벌리세요. 혀는 [이]보다 낮게 내리세요.',\n",
    "        '입을 새끼손가락 두 개만큼 벌리세요. 혀는 아랫니 뒤에 두세요.',\n",
    "        '입을 새끼손가락 세 개만큼 벌리세요. 혀는 최대한 내리세요.',\n",
    "        '입을 새끼손가락 두 개만큼 벌리세요. 입술과 혀는 힘을 주지 말고 편안하게 두세요.',\n",
    "        '입을 새끼손가락 하나만큼 벌리세요. 입술은 동그랗게 만드세요. 혀끝은 밑으로 내리고, 혀의 뒤쪽을 올리세요.',\n",
    "        '입을 조금만 벌리세요. 입술을 동그랗게 만드세요. 입술을 조금 앞으로 내미세요. 혀끝은 밑으로 내리고 혀의 뒤쪽을 최대한 올리세요.',\n",
    "        '입을 조금만 벌리세요. 입술과 혀는 힘을 주지 말고 편안하게 두세요.',\n",
    "        '[이아]를 끊지 않고 연이어서 빨리 발음합니다. 이때 [이]는 짧고 약하게 [아]에 붙입니다.',\n",
    "        '[이어]를 끊지 않고 연이어서 빨리 발음합니다. 이때 [이]는 짧고 약하게 [어]에 붙입니다.',\n",
    "        '[이오]를 끊지 않고 연이어서 빨리 발음합니다. 이때 [이]는 짧고 약하게 [오]에 붙입니다.',\n",
    "        '[이우]를 끊지 않고 연이어서 빨리 발음합니다. 이때 [이]는 짧고 약하게 [우]에 붙입니다.',\n",
    "        '[이애]를 끊지 않고 연이어서 빨리 발음합니다. 이때 [이]는 짧고 약하게 [애]에 붙입니다.',\n",
    "        '[이에]를 끊지 않고 연이어서 빨리 발음합니다. 이때 [이]는 짧고 약하게 [에]에 붙입니다.',\n",
    "        '[우아]를 끊지 않고 이어서 발음합니다. 이때 [우]는 짧고 약하게 [아]에 붙입니다.',\n",
    "        '[우어]를 끊지 않고 이어서 발음합니다. 이때 [우]는 짧고 약하게 [어]에 붙입니다.',\n",
    "        '[우에]를 끊지 않고 이어서 발음합니다. 이때 [우]는 짧고 약하게 [에]에 붙입니다.',\n",
    "        '[우에]를 끊지 않고 이어서 발음합니다. 이때 [우]는 짧고 약하게 [에]에 붙입니다.',\n",
    "        '[우에]를 끊지 않고 이어서 발음합니다. 이때 [우]는 짧고 약하게 [에]에 붙입니다.',\n",
    "        '[우이]를 끊지 않고 이어서 발음합니다. 이때 [우]는 아주 짧게 발음하여 [이]에 붙입니다.',\n",
    "        '입술의 모양은 [으]로 유지하고, 혀의 위치는 [으]에서 [이]로 빨리 옮깁니다.'\n",
    "    ]\n",
    "}\n",
    "\n",
    "# 데이터프레임 생성\n",
    "df = pd.DataFrame(data)\n",
    "\n",
    "# 각 instruction 텍스트에 큰따옴표 추가\n",
    "df['Instruction'] = df['Instruction'].apply(lambda x: f'\"{x}\"')\n",
    "\n",
    "# CSV 파일로 저장\n",
    "df.to_csv('/workspace/mo_pronunciation_instructions.csv', index=False, encoding='utf-8-sig')\n"
   ]
  },
  {
   "cell_type": "code",
   "execution_count": 1,
   "metadata": {},
   "outputs": [
    {
     "name": "stdout",
     "output_type": "stream",
     "text": [
      "이: 입을 옆으로 길게 벌리고 혀는 입천장 쪽으로 올리세요.\n",
      "에: 입을 새끼손가락 하나만큼 벌리고 혀를 [이]보다 낮게 두세요.\n",
      "애: 입을 새끼손가락 두 개만큼 벌리고 혀를 아랫니 뒤에 두세요.\n",
      "아: 입을 새끼손가락 세 개만큼 벌리고 혀를 최대한 내리세요.\n",
      "어: 입을 새끼손가락 두 개만큼 벌리고 입술과 혀를 편안하게 두세요.\n",
      "오: 입을 새끼손가락 하나만큼 벌리고 입술을 동그랗게 하며 혀끝은 밑으로, 혀의 뒤쪽을 올리세요.\n",
      "우: 입을 조금만 벌리고 입술을 동그랗게 하며 입술을 앞으로 내밀고, 혀끝은 밑으로, 혀의 뒤쪽을 최대한 올리세요.\n",
      "으: 입을 조금만 벌리고 입술과 혀를 편안하게 두세요.\n",
      "야: [이아]를 끊지 않고 연이어 발음하세요. [이]는 짧고 약하게 [아]에 붙입니다.\n",
      "여: [이어]를 끊지 않고 연이어 발음하세요. [이]는 짧고 약하게 [어]에 붙입니다.\n",
      "요: [이오]를 끊지 않고 연이어 발음하세요. [이]는 짧고 약하게 [오]에 붙입니다.\n",
      "유: [이우]를 끊지 않고 연이어 발음하세요. [이]는 짧고 약하게 [우]에 붙입니다.\n",
      "얘: [이애]를 끊지 않고 연이어 발음하세요. [이]는 짧고 약하게 [애]에 붙입니다.\n",
      "예: [이에]를 끊지 않고 연이어 발음하세요. [이]는 짧고 약하게 [에]에 붙입니다.\n",
      "와: [우아]를 끊지 않고 연이어 발음하세요. [우]는 짧고 약하게 [아]에 붙입니다.\n",
      "워: [우어]를 끊지 않고 연이어 발음하세요. [우]는 짧고 약하게 [어]에 붙입니다.\n",
      "왜: [우에]를 끊지 않고 연이어 발음하세요. [우]는 짧고 약하게 [에]에 붙입니다.\n",
      "웨: [우에]를 끊지 않고 연이어 발음하세요. [우]는 짧고 약하게 [에]에 붙입니다.\n",
      "외: [우에]를 끊지 않고 연이어 발음하세요. [우]는 짧고 약하게 [에]에 붙입니다.\n",
      "위: [우이]를 끊지 않고 연이어 발음하세요. [우]는 아주 짧게 하여 [이]에 붙입니다.\n",
      "의: 입술은 [으] 모양을 유지하고, 혀를 [으]에서 [이]로 빨리 옮기세요.\n"
     ]
    }
   ],
   "source": [
    "with open(\"/workspace/app/feedback/table/mo_pronunciation_instruction.txt\", \"r\") as file:\n",
    "    data = file.read()\n",
    "    \n",
    "print(data)"
   ]
  }
 ],
 "metadata": {
  "kernelspec": {
   "display_name": "Python 3",
   "language": "python",
   "name": "python3"
  },
  "language_info": {
   "codemirror_mode": {
    "name": "ipython",
    "version": 3
   },
   "file_extension": ".py",
   "mimetype": "text/x-python",
   "name": "python",
   "nbconvert_exporter": "python",
   "pygments_lexer": "ipython3",
   "version": "3.11.10"
  }
 },
 "nbformat": 4,
 "nbformat_minor": 2
}
