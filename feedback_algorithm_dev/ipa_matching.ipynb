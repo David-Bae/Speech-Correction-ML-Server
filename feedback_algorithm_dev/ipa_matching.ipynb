{
 "cells": [
  {
   "cell_type": "markdown",
   "metadata": {},
   "source": [
    "### 추가 라이브러리 설치됨"
   ]
  },
  {
   "cell_type": "code",
   "execution_count": 1,
   "metadata": {},
   "outputs": [],
   "source": [
    "import sys\n",
    "sys.path.append('/workspace')"
   ]
  },
  {
   "cell_type": "code",
   "execution_count": 2,
   "metadata": {},
   "outputs": [],
   "source": [
    "text1 = \"나는 당산에 간다.\"\n",
    "text2 = \"나는 동싼에 간다.\""
   ]
  },
  {
   "cell_type": "code",
   "execution_count": 3,
   "metadata": {},
   "outputs": [],
   "source": [
    "from app.hangul2ipa.worker import hangul2ipa\n",
    "import pandas as pd\n",
    "\n",
    "def parse_ipa(ipa_input):\n",
    "    ipas = pd.read_csv(\"./ipa2ko.csv\")[\"IPA\"].values\n",
    "\n",
    "    ipas = sorted(ipas, key=lambda c: len(c), reverse=True)\n",
    "\n",
    "    parsed_ipa = []\n",
    "    i = 0\n",
    "\n",
    "    while i < len(ipa_input):\n",
    "        skip = True\n",
    "        for ipa in ipas:\n",
    "            if ipa == ipa_input[i:i+len(ipa)]:\n",
    "                skip = False\n",
    "                parsed_ipa.append(ipa)\n",
    "                i += len(ipa)\n",
    "                break\n",
    "        if skip == True:\n",
    "            i += 1\n",
    "\n",
    "    return parsed_ipa\n",
    "\n",
    "def parse_ipa_with_words(ipa_sentence):\n",
    "    words = ipa_sentence.split(\" \")\n",
    "    \n",
    "    parsed_words = list(map(parse_ipa, words))\n",
    "    \n",
    "    return parsed_words\n"
   ]
  },
  {
   "cell_type": "code",
   "execution_count": 4,
   "metadata": {},
   "outputs": [],
   "source": [
    "from difflib import SequenceMatcher\n",
    "\n",
    "def compare_ipa_with_word_index(original_ipa, user_ipa):\n",
    "    parsed_original = parse_ipa_with_words(original_ipa)\n",
    "    parsed_user = parse_ipa_with_words(user_ipa)\n",
    "    \n",
    "    diff_with_word_index = []\n",
    "    \n",
    "    # 두 개의 단어 리스트를 단어 단위로 비교\n",
    "    for word_index, (orig_word, user_word) in enumerate(zip(parsed_original, parsed_user)):\n",
    "        # SequenceMatcher로 단어 단위의 음소 비교\n",
    "        matcher = SequenceMatcher(None, orig_word, user_word)\n",
    "        for tag, i1, i2, j1, j2 in matcher.get_opcodes():\n",
    "            if tag != 'equal':\n",
    "                # word_index로 몇 번째 단어에서 차이가 발생했는지 표시\n",
    "                diff_with_word_index.append((word_index + 1, orig_word[i1:i2][0], user_word[j1:j2][0]))\n",
    "    \n",
    "    return diff_with_word_index"
   ]
  },
  {
   "cell_type": "code",
   "execution_count": 7,
   "metadata": {},
   "outputs": [
    {
     "name": "stdout",
     "output_type": "stream",
     "text": [
      "nɑnɯn tɑŋsɑnɛ kɑndɑ\n",
      "nɑnɯn toŋs*ɑnɛ kɑndɑ\n",
      "[(2, 'ɑ', 'o'), (2, 's', 's*')]\n"
     ]
    }
   ],
   "source": [
    "ipa1 = hangul2ipa(text1)\n",
    "ipa2 = hangul2ipa(text2)\n",
    "\n",
    "a = compare_ipa_with_word_index(ipa1, ipa2)\n",
    "\n",
    "print(ipa1)\n",
    "print(ipa2)\n",
    "\n",
    "print(a)"
   ]
  }
 ],
 "metadata": {
  "kernelspec": {
   "display_name": "Python 3",
   "language": "python",
   "name": "python3"
  },
  "language_info": {
   "codemirror_mode": {
    "name": "ipython",
    "version": 3
   },
   "file_extension": ".py",
   "mimetype": "text/x-python",
   "name": "python",
   "nbconvert_exporter": "python",
   "pygments_lexer": "ipython3",
   "version": "3.11.10"
  }
 },
 "nbformat": 4,
 "nbformat_minor": 2
}
