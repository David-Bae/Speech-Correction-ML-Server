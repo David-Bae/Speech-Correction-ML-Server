{
 "cells": [
  {
   "cell_type": "markdown",
   "metadata": {},
   "source": [
    "## 모델, 데이터셋 준비"
   ]
  },
  {
   "cell_type": "code",
   "execution_count": 1,
   "metadata": {},
   "outputs": [],
   "source": [
    "import sys\n",
    "sys.path.append('/workspace')"
   ]
  },
  {
   "cell_type": "code",
   "execution_count": 2,
   "metadata": {},
   "outputs": [
    {
     "name": "stderr",
     "output_type": "stream",
     "text": [
      "/opt/conda/lib/python3.11/site-packages/tqdm/auto.py:21: TqdmWarning: IProgress not found. Please update jupyter and ipywidgets. See https://ipywidgets.readthedocs.io/en/stable/user_install.html\n",
      "  from .autonotebook import tqdm as notebook_tqdm\n",
      "Special tokens have been added in the vocabulary, make sure the associated word embeddings are fine-tuned or trained.\n"
     ]
    }
   ],
   "source": [
    "from app.models.model_loader import load_asr_model\n",
    "\n",
    "MODEL_VERSION = \"v2\"\n",
    "IPA_ASR_MODEL = load_asr_model(MODEL_VERSION)"
   ]
  },
  {
   "cell_type": "code",
   "execution_count": 3,
   "metadata": {},
   "outputs": [
    {
     "name": "stderr",
     "output_type": "stream",
     "text": [
      "Generating test split: 10 examples [00:00, 408.09 examples/s]"
     ]
    },
    {
     "name": "stdout",
     "output_type": "stream",
     "text": [
      "Dataset({\n",
      "    features: ['audio', 'label'],\n",
      "    num_rows: 10\n",
      "})\n"
     ]
    },
    {
     "name": "stderr",
     "output_type": "stream",
     "text": [
      "\n"
     ]
    }
   ],
   "source": [
    "from datasets import load_dataset, Audio\n",
    "\n",
    "data_files = {\n",
    "    'test': '/workspace/dataset/Test/data_for_test_feedback_algo.csv'\n",
    "}\n",
    "\n",
    "#! Custom Dataset 불러오기.\n",
    "dataset = load_dataset(\"csv\", data_files=data_files)\n",
    "\n",
    "#! 오디오 파일을 audio 형식으로 처리\n",
    "dataset = dataset.cast_column(\"audio\", Audio())\n",
    "\n",
    "print(dataset['test'])"
   ]
  },
  {
   "cell_type": "markdown",
   "metadata": {},
   "source": [
    "## give_feedback API (개발 중)"
   ]
  },
  {
   "cell_type": "code",
   "execution_count": 4,
   "metadata": {},
   "outputs": [],
   "source": [
    "from concurrent.futures import ThreadPoolExecutor\n",
    "from app.hangul2ipa.worker import hangul2ipa\n",
    "from app.feedback import get_asr_inference\n",
    "\n",
    "\n",
    "\"\"\"\n",
    "TODO 이 함수를 구현해야 함.\n",
    "\"\"\"\n",
    "def remove_noise_GPT(user_ipa, standard_ipa):\n",
    "    user_ipa_clean = None\n",
    "    return user_ipa_clean\n",
    "\n",
    "\"\"\"\n",
    "give_feedback (DEV) 함수가 하는 역할\n",
    "1. 음성과 텍스트를 모두 IPA로 변환.\n",
    "2. GPT를 통해 노이즈 제거.\n",
    "3. 결과 반환.\n",
    "\"\"\"\n",
    "\n",
    "#! 원래 MODEL은 전역 변수, 여기서는 매개변수로 입력받음.\n",
    "def give_feedback(audio, text, IPA_ASR_MODEL):\n",
    "    \n",
    "    #* Convert Audio and Text to IPA in parallel\n",
    "    with ThreadPoolExecutor() as executor:\n",
    "        user_ipa = executor.submit(get_asr_inference, IPA_ASR_MODEL, audio)\n",
    "        standard_ipa = executor.submit(hangul2ipa, text)                                                         \n",
    "    user_ipa = user_ipa.result()\n",
    "    standard_ipa = standard_ipa.result()\n",
    "    \n",
    "    #! GPT를 통해 IPA에서 노이즈를 제거.\n",
    "    user_ipa_clean = remove_noise_GPT(user_ipa, standard_ipa)\n",
    "    \n",
    "    feedback_data = {\n",
    "        \"user_ipa\": user_ipa,\n",
    "        \"standard_ipa\": standard_ipa,\n",
    "        \"user_ipa_clean\" : user_ipa_clean,\n",
    "    }\n",
    "\n",
    "    return feedback_data"
   ]
  },
  {
   "cell_type": "markdown",
   "metadata": {},
   "source": [
    "## give_feedback 테스트"
   ]
  },
  {
   "cell_type": "code",
   "execution_count": 6,
   "metadata": {},
   "outputs": [
    {
     "name": "stdout",
     "output_type": "stream",
     "text": [
      "<1번쨰 샘플>\n",
      "문장 : 나는 행복하게 끝나는 영화가 좋다\n",
      "정답 IPA : nɑnɯn hɛŋbokʰɑɡɛ k*ɯnnɑnɯn jʌŋwaɡɑ tɕotʰɑ\n",
      "사용자 IPA : nɑnɯn hɛŋ[UNK]ʌkʰɑ[UNK]ɛ kɯnnɑnɯnjʌŋwa[UNK]ɑtɕotʰɑ\n",
      "\n",
      "<2번쨰 샘플>\n",
      "문장 : 휴가때 이탈리아에 여행 가고 싶어요\n",
      "정답 IPA : hjuɡɑt*ɛ itʰɑlliɑɛ jʌɛŋ kɑɡo sipʰʌjo\n",
      "사용자 IPA : sio[UNK]ɑpt*ɛɛ itʰɑ[UNK]i ɛijoɛŋkɑ[UNK]o sip pʌl\n",
      "\n",
      "<3번쨰 샘플>\n",
      "문장 : 세계 여행 하고싶어요\n",
      "정답 IPA : sɛɡjɛ jʌɛŋ hɑɡosipʰʌjo\n",
      "사용자 IPA : sɛ[UNK]ɛjʌŋɑ[UNK]o sippʰʌl\n",
      "\n",
      "<4번쨰 샘플>\n",
      "문장 : 나는 외출하기 전까지 방청소를 끝내야 한다\n",
      "정답 IPA : nɑnɯn wɛtɕʰuɾɑɡi tɕʌŋk*ɑdʑi pɑŋtɕʰʌŋsoɾɯl k*ɯnnɛja hɑndɑ\n",
      "사용자 IPA : mɑmɑnɰitɕʰu[UNK]ɑ[UNK]itɕʌŋ[UNK]ɑ[UNK][UNK]i pɑntɕʰʌŋsʌ[UNK]ɯl imnɛjahɯ[UNK]ɑ\n",
      "\n",
      "<5번쨰 샘플>\n",
      "문장 : 저는 러시아 음식을 요리할 줄 알아요\n",
      "정답 IPA : tɕʌnɯn lʌsiɑ ɯmsiɡɯl joɾiɑl tɕul ɑɾɑjo\n",
      "사용자 IPA : tɕʌnɑn ɯ[UNK]ʌ sɑn sɛ[UNK]ɯlɯ[UNK]jaɑn[UNK][UNK]ʌl ɑ[UNK]ɑja\n",
      "\n",
      "<6번쨰 샘플>\n",
      "문장 : 휴가 때 유럽에 여행가고 싶어요\n",
      "정답 IPA : hjuɡɑ t*ɛ juɾʌbɛ jʌɛŋɡɑɡo sipʰʌjo\n",
      "사용자 IPA : tʰju[UNK]ɑ[UNK]ɛju[UNK]ʌ[UNK]ɛjʌɛŋ kɑ[UNK]o sippʰʌʌ\n",
      "\n",
      "<7번쨰 샘플>\n",
      "문장 : 그 사람은 운동을 할 것 같지 않아\n",
      "정답 IPA : kɯ sɑɾɑmɯn undoŋɯl hɑl kʌt kɑttɕ*i ɑnɑ\n",
      "사용자 IPA : kɯ sɑ[UNK]ɑmɑn um[UNK][UNK]ʌŋɯl hɑl kot kɑtɕʰi ɑnɑ\n",
      "\n",
      "<8번쨰 샘플>\n",
      "문장 : 그 사람은 매일 샤워를 한다\n",
      "정답 IPA : kɯ sɑɾɑmɯn mɛil sjawʌɾɯl hɑndɑ\n",
      "사용자 IPA : kɯ sɑ[UNK]ɑmmɑn mɛil siɑʌ[UNK]ɯl ɑnn[UNK]ɑ\n",
      "\n",
      "<9번쨰 샘플>\n",
      "문장 : 저는 돈이 많으면 차 사고 싶어요\n",
      "정답 IPA : tɕʌnɯn toni mɑnɯmjʌn tɕʰɑ sɑɡo sipʰʌjo\n",
      "사용자 IPA : tɕʰʌŋtʰoni mɑnɯlljʌntɕʰɑ sɑ[UNK]o sipwʌl\n",
      "\n",
      "<10번쨰 샘플>\n",
      "문장 : 오늘 아침에 일곱시쯤에 일어났어요\n",
      "정답 IPA : onɯl ɑtɕʰimɛ ilɡops*itɕ*ɯmɛ iɾʌnɑs*ʌjo\n",
      "사용자 IPA : ʌnɯ ɑ[UNK][UNK]imɛ il[UNK]opsitɕɯmmɛnɛ i[UNK]ʌnɑs*ʌjo\n",
      "\n"
     ]
    }
   ],
   "source": [
    "for i, sample in enumerate(dataset['test']):\n",
    "    audio = sample['audio']['path']\n",
    "    label = sample['label']\n",
    "    \n",
    "    result = give_feedback(audio, label, IPA_ASR_MODEL)\n",
    "    \n",
    "    print(f\"<{i+1}번쨰 샘플>\")\n",
    "    print(f\"문장 : {label}\")\n",
    "    print(f\"정답 IPA : {result['standard_ipa']}\")\n",
    "    print(f\"사용자 IPA : {result['user_ipa']}\")\n",
    "    print()"
   ]
  }
 ],
 "metadata": {
  "kernelspec": {
   "display_name": "base",
   "language": "python",
   "name": "python3"
  },
  "language_info": {
   "codemirror_mode": {
    "name": "ipython",
    "version": 3
   },
   "file_extension": ".py",
   "mimetype": "text/x-python",
   "name": "python",
   "nbconvert_exporter": "python",
   "pygments_lexer": "ipython3",
   "version": "3.11.9"
  }
 },
 "nbformat": 4,
 "nbformat_minor": 2
}
