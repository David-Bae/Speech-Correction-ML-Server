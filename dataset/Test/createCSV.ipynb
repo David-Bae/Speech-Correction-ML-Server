{
 "cells": [
  {
   "cell_type": "code",
   "execution_count": 18,
   "metadata": {},
   "outputs": [],
   "source": [
    "import re\n",
    "import sys\n",
    "sys.path.append('/workspace')\n",
    "\n",
    "from converter.worker import convert_sentence\n",
    "\n",
    "def preprocess_label(label, toIPA=True):\n",
    "    label = re.sub(r'[^가-힣\\s]', '', label)\n",
    "    \n",
    "    if toIPA:\n",
    "        label = convert_sentence(label)\n",
    "    \n",
    "    return label"
   ]
  },
  {
   "cell_type": "code",
   "execution_count": 19,
   "metadata": {},
   "outputs": [],
   "source": [
    "sentences = [\n",
    "    \"나는 행복하게 끈나는 용화가 좋다\",\n",
    "    \"휴가때 이타랴에 요행 가고 싶어요\",\n",
    "    \"나는 외출하기 쩐가지 방청소를 끝내야 한다\",\n",
    "    \"여행 가기 전에 필요한 업과 약등에 어거트를 케이루에 잘 넣어야 돼요\",\n",
    "    \"담배를 피우는 사람 슈가 며년 츤가\",\n",
    "    \"시노도에서 걷거나 집에 가 가요\",\n",
    "    \"그 사람은 온종 할 것 같치 않아\",\n",
    "    \"그 사람은 매일 쌰오를 한다\",\n",
    "    \"저는 톤이 많으면 차 사고 싶어요\",\n",
    "    \"오느 아침에 일곱씨쯤에 일어났어요\",\n",
    "    \"세계 융애 하고 싶어요\",\n",
    "    \"저하는 음식은 우주베기스탄 점또 음식인 오씨입니다\",\n",
    "    \"내이 친구는 항상 욥칩 아이 돌봐 준다\",\n",
    "    \"아마 외출하기 전가지 밤청소를 긴내야한다\",\n",
    "    \"이 쇼미 킅난 다음에 친구를 만났고 같이 모꾸로 해요\",\n",
    "    \"저는 로씨아 음식을 요려할 줄 알아요\",\n",
    "    \"나는 고기 요리를 시히고 야채는 안 먹는다\",\n",
    "    \"퓨거배 유럽에 여행가고 싶어요\",\n",
    "    \"아이가 키우던 개를 잃어버려서 슬푸해요\",\n",
    "    \"제가쭈꾼 다손명이에요\",\n",
    "    \"초의 생길은 쿠월 이십육일이에요\",\n",
    "    \"침다기랑 타칼비\",\n",
    "    \"생쏘늘 모는 고 고야니가\",\n",
    "    \"시간이 있을 때 드라마나 예능 프로갬을 자주 봐요\",\n",
    "    \"치끼 책상 위에 있다\",\n",
    "    \"열한시 기자가 도착했다\",\n",
    "    \"내 진구는 항상 옆에 술치비 가튼툰다\",\n",
    "    \"그 사람이 울장 하루 꽊꽊 자루를\",\n",
    "    \"그 식단은 음식기 맛있타고 한다\",\n",
    "    \"저 싸람은 매이 처우루 한다\",\n",
    "    \"오늘 저녁에 딸 고기를 먹을거에요\",\n",
    "    \"저는 외고른 배울 때 열심히 공부하는 것이 필요한다고 생각해요 하지만 오디는 높은 효과른 얻기 위해 적철한 학습 방법이 필요해요\",\n",
    "    \"집 촌 잔네 좀무 쌌다\",\n",
    "    \"오늘 무았을 입썼어요 옷 잘 입는 자세하게 무사해 주세요\",\n",
    "    \"나는 집 내부 공사를 끄냈다\",\n",
    "    \"매일은 삐 올 이리가 없다\",\n",
    "    \"어 잘 모르겠어요 아마도 똑뽀끼가 제일 좋아요\",\n",
    "    \"머리를 찰라야 합니다\",\n",
    "    \"열한시반 크 기차가 이미 역을 터났는지 모르겠다\",\n",
    "    \"헬스클럽에서 핏너스 핏너슬 해요\"\n",
    "]\n"
   ]
  },
  {
   "cell_type": "code",
   "execution_count": 24,
   "metadata": {},
   "outputs": [
    {
     "name": "stdout",
     "output_type": "stream",
     "text": [
      "CSV 파일이 /workspace/dataset/Test/data_ipa.csv로 저장되었습니다.\n"
     ]
    }
   ],
   "source": [
    "import sys\n",
    "import os\n",
    "import json\n",
    "import csv\n",
    "\n",
    "DATASET_NAME = \"Test\"\n",
    "DATASET_PATH = f\"/workspace/dataset/{DATASET_NAME}\"\n",
    "\n",
    "\n",
    "audio_folder = os.path.join(DATASET_PATH, 'audio')\n",
    "csv_file = os.path.join(DATASET_PATH, 'data_ipa.csv')\n",
    "\n",
    "# CSV 파일에 저장할 데이터를 담을 리스트\n",
    "data = []\n",
    "\n",
    "COUNT = 0\n",
    "\n",
    "# JSON 파일을 순회하며 CSV 데이터로 변환\n",
    "for file in os.listdir(audio_folder):\n",
    "    index = int(file[:-4])\n",
    "    label_hangul = sentences[index]\n",
    "    label_ipa = preprocess_label(label_hangul)\n",
    "    \n",
    "    data.append([f\"{DATASET_PATH}/audio/{file}\", label_ipa])\n",
    "\n",
    "\n",
    "# CSV 파일로 저장\n",
    "with open(csv_file, 'w', newline='', encoding='utf-8') as csvfile:\n",
    "    csvwriter = csv.writer(csvfile)\n",
    "    csvwriter.writerow(['audio', 'label'])  # 헤더 추가\n",
    "    csvwriter.writerows(data)  # 데이터 추가\n",
    "\n",
    "print(f\"CSV 파일이 {csv_file}로 저장되었습니다.\")"
   ]
  },
  {
   "cell_type": "code",
   "execution_count": 23,
   "metadata": {},
   "outputs": [
    {
     "name": "stdout",
     "output_type": "stream",
     "text": [
      "['/workspace/dataset/Test/audio/0.wav', 'nɑnɯn hɛŋbokʰɑɡɛ k*ɯnnɑnɯn joŋwaɡɑ tɕotʰɑ']\n",
      "['/workspace/dataset/Test/audio/1.wav', 'hjuɡɑt*ɛ itʰɑɾjaɛ joɛŋ kɑɡo sipʰʌjo']\n",
      "['/workspace/dataset/Test/audio/10.wav', 'sɛɡjɛ juŋɛ hɑɡo sipʰʌjo']\n",
      "['/workspace/dataset/Test/audio/11.wav', 'tɕʌɑnɯn ɯmsiɡɯn udʑubɛɡisɯtʰɑn tɕʌmt*o ɯmsiɡin os*iimnidɑ']\n",
      "['/workspace/dataset/Test/audio/12.wav', 'nɛi tɕʰiŋɡunɯn hɑŋsɑŋ joptɕʰip ɑi tolbwa tɕundɑ']\n",
      "['/workspace/dataset/Test/audio/13.wav', 'ɑmɑ wɛtɕʰuɾɑɡi tɕʌŋɡɑdʑi pɑmtɕʰʌŋsoɾɯl kinnɛjaɑndɑ']\n",
      "['/workspace/dataset/Test/audio/14.wav', 'i sjomi kʰɯnnɑn tɑɯmɛ tɕʰiŋɡuɾɯl mɑnnɑtk*o kɑtɕʰi mok*uɾo hɛjo']\n",
      "['/workspace/dataset/Test/audio/15.wav', 'tɕʌnɯn los*iɑ ɯmsiɡɯl joɾjʌɑl tɕul ɑɾɑjo']\n",
      "['/workspace/dataset/Test/audio/16.wav', 'nɑnɯn koɡi joɾiɾɯl siiɡo jatɕʰɛnɯn ɑn mʌŋnɯndɑ']\n",
      "['/workspace/dataset/Test/audio/17.wav', 'pʰjuɡʌbɛ juɾʌbɛ jʌɛŋɡɑɡo sipʰʌjo']\n",
      "['/workspace/dataset/Test/audio/18.wav', 'ɑiɡɑ kʰiudʌn kɛɾɯl iɾʌbʌɾjʌsʌ sɯlpʰuɛjo']\n",
      "['/workspace/dataset/Test/audio/19.wav', 'tɕɛɡɑtɕ*uk*un tɑsommjʌŋiɛjo']\n",
      "['/workspace/dataset/Test/audio/2.wav', 'nɑnɯn wɛtɕʰuɾɑɡi tɕ*ʌŋɡɑdʑi pɑŋtɕʰʌŋsoɾɯl k*ɯnnɛja hɑndɑ']\n",
      "['/workspace/dataset/Test/audio/20.wav', 'tɕʰoɰi sɛŋɡiɾɯn kʰuwʌl isibjuɡiɾiɛjo']\n",
      "['/workspace/dataset/Test/audio/21.wav', 'tɕʰimdɑɡiɾɑŋ tʰɑkʰɑlbi']\n",
      "['/workspace/dataset/Test/audio/22.wav', 'sɛŋs*onɯl monɯn ko kojaniɡɑ']\n",
      "['/workspace/dataset/Test/audio/23.wav', 'siɡɑni is*ɯl t*ɛ tɯɾɑmɑnɑ jɛnɯŋ pʰɯɾoɡɛmɯl tɕɑdʑu pwajo']\n",
      "['/workspace/dataset/Test/audio/24.wav', 'tɕʰik*i tɕʰɛks*ɑŋ wiɛ itt*ɑ']\n",
      "['/workspace/dataset/Test/audio/25.wav', 'jʌɾɑnsi kidʑɑɡɑ totɕʰɑkʰɛtt*ɑ']\n",
      "['/workspace/dataset/Test/audio/26.wav', 'nɛ tɕiŋɡunɯn hɑŋsɑŋ jʌpʰɛ sultɕʰibi kɑtʰɯntʰundɑ']\n",
      "['/workspace/dataset/Test/audio/27.wav', 'kɯ sɑɾɑmi uldʑɑŋ hɑɾu k*wakk*wak tɕɑɾuɾɯl']\n",
      "['/workspace/dataset/Test/audio/28.wav', 'kɯ sikt*ɑnɯn ɯmsikk*i mɑsittʰɑɡo hɑndɑ']\n",
      "['/workspace/dataset/Test/audio/29.wav', 'tɕʌ s*ɑɾɑmɯn mɛi tɕʰʌuɾu hɑndɑ']\n",
      "['/workspace/dataset/Test/audio/3.wav', 'jʌɛŋ kɑɡi tɕʌnɛ pʰiɾjoɑn ʌpk*wa jakt*ɯŋɛ ʌɡʌtʰɯɾɯl kʰɛiɾuɛ tɕɑl nʌʌja twɛjo']\n",
      "['/workspace/dataset/Test/audio/30.wav', 'onɯl tɕʌnjʌɡɛ t*ɑl koɡiɾɯl mʌɡɯlɡʌɛjo']\n",
      "['/workspace/dataset/Test/audio/31.wav', 'tɕʌnɯn wɛɡoɾɯn pɛul t*ɛ jʌlsimi koŋbuɑnɯn kʌsi pʰiɾjoɑndɑɡo sɛŋɡɑkʰɛjo hɑdʑimɑn odinɯn nopʰɯn hjoɡwaɾɯn ʌtk*i wiɛ tɕʌktɕʰʌɾɑn hɑks*ɯp pɑŋbʌbi pʰiɾjoɛjo']\n",
      "['/workspace/dataset/Test/audio/32.wav', 'tɕip tɕʰon tɕɑnnɛ tɕommu s*ɑtt*ɑ']\n",
      "['/workspace/dataset/Test/audio/33.wav', 'onɯl muɑs*ɯl ips*ʌs*ʌjo ot tɕɑl imnɯn tɕɑsɛɑɡɛ musɑɛ tɕusɛjo']\n",
      "['/workspace/dataset/Test/audio/34.wav', 'nɑnɯn tɕip nɛbu koŋsɑɾɯl k*ɯnɛtt*ɑ']\n",
      "['/workspace/dataset/Test/audio/35.wav', 'mɛiɾɯn p*i ol iɾiɡɑ ʌpt*ɑ']\n",
      "['/workspace/dataset/Test/audio/36.wav', 'ʌ tɕɑl moɾɯɡɛs*ʌjo ɑmɑdo t*okp*ok*iɡɑ tɕɛil tɕoɑjo']\n",
      "['/workspace/dataset/Test/audio/37.wav', 'mʌɾiɾɯl tɕʰɑllɑja hɑmnidɑ']\n",
      "['/workspace/dataset/Test/audio/38.wav', 'jʌɾɑnsibɑn kʰɯ kitɕʰɑɡɑ imi jʌɡɯl tʰʌnɑnnɯndʑi moɾɯɡɛtt*ɑ']\n",
      "['/workspace/dataset/Test/audio/39.wav', 'hɛlsɯkʰɯllʌbɛsʌ pʰinnʌsɯ pʰinnʌsɯl hɛjo']\n",
      "['/workspace/dataset/Test/audio/4.wav', 'tɑmbɛɾɯl pʰiunɯn sɑɾɑm sjuɡɑ mjʌnjʌn tɕʰɯŋɡɑ']\n",
      "['/workspace/dataset/Test/audio/5.wav', 'sinodoɛsʌ kʌtk*ʌnɑ tɕibɛ kɑ kɑjo']\n",
      "['/workspace/dataset/Test/audio/6.wav', 'kɯ sɑɾɑmɯn ondʑoŋ hɑl kʌt kɑttɕʰi ɑnɑ']\n",
      "['/workspace/dataset/Test/audio/7.wav', 'kɯ sɑɾɑmɯn mɛil s*jaoɾɯl hɑndɑ']\n",
      "['/workspace/dataset/Test/audio/8.wav', 'tɕʌnɯn tʰoni mɑnɯmjʌn tɕʰɑ sɑɡo sipʰʌjo']\n",
      "['/workspace/dataset/Test/audio/9.wav', 'onɯ ɑtɕʰimɛ ilɡops*itɕ*ɯmɛ iɾʌnɑs*ʌjo']\n"
     ]
    }
   ],
   "source": [
    "for sample in data:\n",
    "    print(sample)"
   ]
  }
 ],
 "metadata": {
  "kernelspec": {
   "display_name": "base",
   "language": "python",
   "name": "python3"
  },
  "language_info": {
   "codemirror_mode": {
    "name": "ipython",
    "version": 3
   },
   "file_extension": ".py",
   "mimetype": "text/x-python",
   "name": "python",
   "nbconvert_exporter": "python",
   "pygments_lexer": "ipython3",
   "version": "3.11.9"
  }
 },
 "nbformat": 4,
 "nbformat_minor": 2
}
